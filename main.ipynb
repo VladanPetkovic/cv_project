{
 "cells": [
  {
   "cell_type": "markdown",
   "source": [
    "### Data exploration"
   ],
   "metadata": {
    "collapsed": false
   },
   "id": "2ff9de0b199f389f"
  },
  {
   "cell_type": "code",
   "execution_count": 1,
   "id": "initial_id",
   "metadata": {
    "collapsed": true,
    "ExecuteTime": {
     "end_time": "2024-10-09T23:57:11.528409700Z",
     "start_time": "2024-10-09T23:57:10.839779200Z"
    }
   },
   "outputs": [
    {
     "name": "stdout",
     "output_type": "stream",
     "text": [
      "Number of JPG files: 24106\n",
      "Number of DS_STORE files: 1\n",
      "Number of PG files: 1\n",
      "Number of 55_0_0_20170116232725357JPG files: 1\n"
     ]
    }
   ],
   "source": [
    "from scripts.data_exploration import *\n",
    "\n",
    "# as we have two wrong files: \n",
    "# 55_0_0_20170116232725357JPG\n",
    "# 44_1_4_20170116235150272.pg\n",
    "file_endings = print_file_endings()\n",
    "\n",
    "df = get_dataframe()\n",
    "create_csv(df)\n",
    "# TODO: add some plots about distribution"
   ]
  },
  {
   "cell_type": "markdown",
   "source": [
    "### Image preparation"
   ],
   "metadata": {
    "collapsed": false
   },
   "id": "c96195b0f4036a7c"
  },
  {
   "cell_type": "code",
   "outputs": [],
   "source": [
    "from scripts.image_helper_functions import *\n",
    "\n",
    "# THIS IS CURRENTLY ONLY FOR TESTING - WILL BE CLEANED UP\n",
    "\n",
    "test_image = get_image_from_path('scripts/test.jpg')\n",
    "grey_image = get_gray_image(test_image)\n",
    "resized_grey_image = resize_by_height(grey_image, 400)\n",
    "display_image(resized_grey_image, 'grey and resized image')\n",
    "\n",
    "# ------------ Model for Age detection ------------ #\n",
    "\n",
    "\n",
    "# Model requirements for image\n",
    "ageList = ['(0-2)', '(4-6)', '(8-12)', '(15-20)',\n",
    "           '(25-32)', '(38-43)', '(48-53)', '(60-100)']\n",
    "# model_mean = (78.4263377603, 87.7689143744, 114.895847746)\n",
    "\n",
    "framed_image = get_framed_cropped_face_image(resized_grey_image)\n",
    "display_image(framed_image, 'framed and cropped image')\n",
    "# ----- Image preprocessing --------#\n",
    "\n",
    "# -------Age Prediction---------#\n"
   ],
   "metadata": {
    "collapsed": false
   },
   "id": "c91452de4cb3cc99"
  }
 ],
 "metadata": {
  "kernelspec": {
   "display_name": "Python 3",
   "language": "python",
   "name": "python3"
  },
  "language_info": {
   "codemirror_mode": {
    "name": "ipython",
    "version": 2
   },
   "file_extension": ".py",
   "mimetype": "text/x-python",
   "name": "python",
   "nbconvert_exporter": "python",
   "pygments_lexer": "ipython2",
   "version": "2.7.6"
  }
 },
 "nbformat": 4,
 "nbformat_minor": 5
}
